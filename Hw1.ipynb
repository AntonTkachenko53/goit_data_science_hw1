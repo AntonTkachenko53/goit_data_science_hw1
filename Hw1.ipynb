{
 "cells": [
  {
   "cell_type": "code",
   "execution_count": 2,
   "id": "c56fcbf2-25e4-405f-b67a-97f653726b37",
   "metadata": {},
   "outputs": [
    {
     "data": {
      "text/plain": [
       "array([ 1,  2,  3,  4,  5,  6,  7,  8,  9, 10])"
      ]
     },
     "execution_count": 2,
     "metadata": {},
     "output_type": "execute_result"
    }
   ],
   "source": [
    "import numpy as np\n",
    "a = np.array([1, 2, 3, 4, 5, 6, 7, 8, 9, 10])\n",
    "a"
   ]
  },
  {
   "cell_type": "code",
   "execution_count": 3,
   "id": "5413ae41-6426-44a5-8133-c1350f3b0735",
   "metadata": {},
   "outputs": [
    {
     "data": {
      "text/plain": [
       "array([[0, 0, 0],\n",
       "       [0, 0, 0],\n",
       "       [0, 0, 0]])"
      ]
     },
     "execution_count": 3,
     "metadata": {},
     "output_type": "execute_result"
    }
   ],
   "source": [
    "b = np.array([[0, 0, 0], [0, 0, 0], [0, 0, 0]])\n",
    "b"
   ]
  },
  {
   "cell_type": "code",
   "execution_count": 4,
   "id": "efe00a1a-151c-488c-a662-d2e04fceb017",
   "metadata": {},
   "outputs": [
    {
     "data": {
      "text/plain": [
       "array([[3, 7, 2, 4, 9],\n",
       "       [5, 1, 8, 4, 5],\n",
       "       [6, 3, 7, 1, 8],\n",
       "       [7, 3, 1, 8, 5],\n",
       "       [8, 5, 7, 2, 4]])"
      ]
     },
     "execution_count": 4,
     "metadata": {},
     "output_type": "execute_result"
    }
   ],
   "source": [
    "c = np.array([[3, 7, 2, 4, 9], [5, 1, 8, 4, 5], [6, 3, 7, 1, 8], [7, 3, 1, 8, 5], [8, 5, 7, 2, 4]])\n",
    "c"
   ]
  },
  {
   "cell_type": "code",
   "execution_count": 5,
   "id": "5d72f8d3-afda-4604-824c-63c48ffa637c",
   "metadata": {},
   "outputs": [
    {
     "data": {
      "text/plain": [
       "array([[0.24, 0.52, 0.78, 0.12],\n",
       "       [0.72, 0.51, 0.28, 0.33],\n",
       "       [0.21, 0.94, 0.48, 0.67],\n",
       "       [0.91, 0.57, 0.42, 0.5 ]])"
      ]
     },
     "execution_count": 5,
     "metadata": {},
     "output_type": "execute_result"
    }
   ],
   "source": [
    "d = np.array([[0.24, 0.52, 0.78, 0.12], [0.72, 0.51, 0.28, 0.33], [0.21, 0.94, 0.48, 0.67], [0.91, 0.57, 0.42, 0.50]])\n",
    "d"
   ]
  },
  {
   "cell_type": "code",
   "execution_count": 6,
   "id": "1036ac11-a5fa-49f2-880a-930753b40117",
   "metadata": {},
   "outputs": [
    {
     "name": "stdout",
     "output_type": "stream",
     "text": [
      "[ 8 16  6 14  8]\n",
      "[-4 -2  2  4  2]\n",
      "[12 63  8 45 15]\n"
     ]
    }
   ],
   "source": [
    "v1 = np.array([2, 7, 4, 9, 5])\n",
    "v2 = np.array([6, 9, 2, 5, 3])\n",
    "print(v1 + v2)\n",
    "print(v1 - v2)\n",
    "print(v1 * v2)"
   ]
  },
  {
   "cell_type": "code",
   "execution_count": 7,
   "id": "fbbdcba9-cebc-410d-8ebe-a55034f12f7d",
   "metadata": {},
   "outputs": [
    {
     "name": "stdout",
     "output_type": "stream",
     "text": [
      "176\n"
     ]
    }
   ],
   "source": [
    "v1 = np.array([2, 7, 4, 9, 5, 6, 1])\n",
    "v2 = np.array([6, 9, 2, 5, 3, 4, 9])\n",
    "print(np.dot(v1, v2))"
   ]
  },
  {
   "cell_type": "code",
   "execution_count": 9,
   "id": "46d36389-202a-442f-a59f-96f6e22fb713",
   "metadata": {},
   "outputs": [
    {
     "name": "stdout",
     "output_type": "stream",
     "text": [
      "[[39 23 32]\n",
      " [99 44 76]]\n"
     ]
    }
   ],
   "source": [
    "m1 = np.array([[2, 3], [9, 5]])\n",
    "m2 = np.array([[6, 1, 4], [9, 7, 8]])\n",
    "print(np.dot(m1, m2))"
   ]
  },
  {
   "cell_type": "code",
   "execution_count": 10,
   "id": "fc2a7688-76a9-474f-a016-9b8c26a70ec2",
   "metadata": {},
   "outputs": [
    {
     "name": "stdout",
     "output_type": "stream",
     "text": [
      "[[-0.05181347 -0.13471503  0.19170984]\n",
      " [ 0.17098446 -0.15544041  0.06735751]\n",
      " [-0.03626943  0.30569948 -0.16580311]]\n"
     ]
    }
   ],
   "source": [
    "m = np.array([[1, 7, 4], [5, 3, 7], [9, 4, 6]])\n",
    "print(np.linalg.inv(m))"
   ]
  },
  {
   "cell_type": "code",
   "execution_count": 11,
   "id": "6f066229-2fa4-4173-b0d2-56ad5fff53dc",
   "metadata": {},
   "outputs": [
    {
     "name": "stdout",
     "output_type": "stream",
     "text": [
      "[[0.71 0.21 0.26 0.63]\n",
      " [0.67 0.48 0.62 0.93]\n",
      " [0.25 0.36 0.78 0.51]\n",
      " [0.81 0.72 0.24 0.74]]\n"
     ]
    }
   ],
   "source": [
    "m = np.array([[0.71, 0.67, 0.25, 0.81], [0.21, 0.48, 0.36, 0.72], [0.26, 0.62, 0.78, 0.24], [0.63, 0.93, 0.51, 0.74]])\n",
    "print(m.T)"
   ]
  },
  {
   "cell_type": "code",
   "execution_count": 12,
   "id": "564daa63-ba12-45fb-ba78-b18a01928dfc",
   "metadata": {},
   "outputs": [
    {
     "name": "stdout",
     "output_type": "stream",
     "text": [
      "[[24 21 30  4]\n",
      " [36 24 12  5]\n",
      " [54 12 36  2]]\n"
     ]
    }
   ],
   "source": [
    "m = np.array([[4, 7, 5, 4], [6, 8, 2, 5], [9, 4, 6, 2]])\n",
    "v = np.array([6, 3, 6, 1])\n",
    "print(m * v)"
   ]
  },
  {
   "cell_type": "code",
   "execution_count": 13,
   "id": "1c0e5433-e1b6-400c-9536-5599d20dfd0c",
   "metadata": {},
   "outputs": [
    {
     "name": "stdout",
     "output_type": "stream",
     "text": [
      "[[0.666087   0.07630871 0.70989008]\n",
      " [0.1091779  0.00300833 0.51733839]]\n"
     ]
    }
   ],
   "source": [
    "m = np.random.rand(2, 3)\n",
    "v = np.random.rand(3)\n",
    "print(m*v)"
   ]
  },
  {
   "cell_type": "code",
   "execution_count": 14,
   "id": "7825ba7b-8eac-428a-923b-b97e5483d90d",
   "metadata": {},
   "outputs": [
    {
     "name": "stdout",
     "output_type": "stream",
     "text": [
      "[[80 35]\n",
      " [21 48]]\n"
     ]
    }
   ],
   "source": [
    "m1 = np.random.randint(1, 11, size=(2, 2))\n",
    "m2 = np.random.randint(1, 11, size=(2, 2))\n",
    "print(m1 * m2)"
   ]
  },
  {
   "cell_type": "code",
   "execution_count": 15,
   "id": "5b21a969-bcb9-4f25-b2cd-0a0f1f1994c3",
   "metadata": {},
   "outputs": [
    {
     "name": "stdout",
     "output_type": "stream",
     "text": [
      "[[24 42]\n",
      " [51 75]]\n"
     ]
    }
   ],
   "source": [
    "m1 = np.random.randint(1, 11, size=(2, 2))\n",
    "m2 = np.random.randint(1, 11, size=(2, 2))\n",
    "print(np.dot(m1, m2))"
   ]
  },
  {
   "cell_type": "code",
   "execution_count": 16,
   "id": "2288a600-3fd1-44dc-a222-3e6b285e3ec2",
   "metadata": {},
   "outputs": [
    {
     "name": "stdout",
     "output_type": "stream",
     "text": [
      "1443\n"
     ]
    }
   ],
   "source": [
    "m = np.random.randint(1, 101, size=(5, 5))\n",
    "print(m.sum())"
   ]
  },
  {
   "cell_type": "code",
   "execution_count": 17,
   "id": "9909affa-72ef-40a5-ab2c-6eb6758c1d2d",
   "metadata": {},
   "outputs": [
    {
     "name": "stdout",
     "output_type": "stream",
     "text": [
      "[[-6  3  0  6]\n",
      " [ 4  3 -6 -1]\n",
      " [-7 -3  3  2]\n",
      " [ 4 -2  4 -3]]\n"
     ]
    }
   ],
   "source": [
    "m1 = np.random.randint(1, 11, size=(4, 4))\n",
    "m2 = np.random.randint(1, 11, size=(4, 4))\n",
    "print(m1 - m2)"
   ]
  },
  {
   "cell_type": "code",
   "execution_count": 20,
   "id": "97a5f308-e02d-48ca-9755-0cd5a56699ba",
   "metadata": {},
   "outputs": [
    {
     "name": "stdout",
     "output_type": "stream",
     "text": [
      "[[2.25985805]\n",
      " [2.17157735]\n",
      " [2.10396805]]\n",
      "[[2.25985805]\n",
      " [2.17157735]\n",
      " [2.10396805]]\n"
     ]
    }
   ],
   "source": [
    "m = np.random.rand(3, 3)\n",
    "v = np.array([[m[0][0] + m[0][1] + m[0][2]], [m[1][0] + m[1][1] + m[1][2]], [m[2][0] + m[2][1] + m[2][2]]])\n",
    "print(v)\n",
    "row_sum = np.sum(m, axis=1)\n",
    "column_vector = row_sum.reshape(-1, 1)\n",
    "print(column_vector)"
   ]
  },
  {
   "cell_type": "code",
   "execution_count": 21,
   "id": "bde9fe21-b608-479a-aa08-ca574df7a845",
   "metadata": {},
   "outputs": [
    {
     "name": "stdout",
     "output_type": "stream",
     "text": [
      "[[ 1521    64  2601  5776]\n",
      " [  676  8836  1225   625]\n",
      " [ 9025  9801 10000  2601]]\n"
     ]
    }
   ],
   "source": [
    "m = np.random.randint(1, 101, size=(3, 4))\n",
    "result = np.square(m)\n",
    "print(result)"
   ]
  },
  {
   "cell_type": "code",
   "execution_count": 22,
   "id": "196da6a9-f45b-4863-98b5-45caeffd7991",
   "metadata": {},
   "outputs": [
    {
     "name": "stdout",
     "output_type": "stream",
     "text": [
      "[[ 4 45 28 42]]\n",
      "[[  16 2025  784 1764]]\n"
     ]
    }
   ],
   "source": [
    "v = np.random.randint(1, 51, size=(1, 4))\n",
    "result = np.square(v)\n",
    "print(v)\n",
    "print(result)"
   ]
  },
  {
   "cell_type": "code",
   "execution_count": null,
   "id": "d55f3ff4-e1ce-4d3b-bc55-ca7354d1b972",
   "metadata": {},
   "outputs": [],
   "source": []
  }
 ],
 "metadata": {
  "kernelspec": {
   "display_name": "Python 3 (ipykernel)",
   "language": "python",
   "name": "python3"
  },
  "language_info": {
   "codemirror_mode": {
    "name": "ipython",
    "version": 3
   },
   "file_extension": ".py",
   "mimetype": "text/x-python",
   "name": "python",
   "nbconvert_exporter": "python",
   "pygments_lexer": "ipython3",
   "version": "3.11.3"
  }
 },
 "nbformat": 4,
 "nbformat_minor": 5
}
